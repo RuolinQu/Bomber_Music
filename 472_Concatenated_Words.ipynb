{
  "nbformat": 4,
  "nbformat_minor": 0,
  "metadata": {
    "colab": {
      "name": "472. Concatenated Words",
      "provenance": [],
      "collapsed_sections": [],
      "authorship_tag": "ABX9TyO+sfzjpHgUfwdFs3UFW7nK",
      "include_colab_link": true
    },
    "kernelspec": {
      "name": "python3",
      "display_name": "Python 3"
    }
  },
  "cells": [
    {
      "cell_type": "markdown",
      "metadata": {
        "id": "view-in-github",
        "colab_type": "text"
      },
      "source": [
        "<a href=\"https://colab.research.google.com/github/RuolinQu/Bomber_Music/blob/master/472_Concatenated_Words.ipynb\" target=\"_parent\"><img src=\"https://colab.research.google.com/assets/colab-badge.svg\" alt=\"Open In Colab\"/></a>"
      ]
    },
    {
      "cell_type": "markdown",
      "metadata": {
        "id": "cnYmZXBwngTU"
      },
      "source": [
        "1.memo+dfs\r\n",
        "memo: if it it a concatenated word \r\n",
        "\r\n",
        "2.\r\n",
        "trie\r\n",
        "https://leetcode.com/problems/concatenated-words/discuss/765634/Python-Trie-solution-explained"
      ]
    },
    {
      "cell_type": "code",
      "metadata": {
        "id": "SCh-21sNnaf5"
      },
      "source": [
        "#111\r\n",
        "\r\n",
        "# class Solution:\r\n",
        "#     def findAllConcatenatedWordsInADict(self, words):\r\n",
        "#         mem={}\r\n",
        "#         dic=set(words)\r\n",
        "#         return [w for w in words if self.helper(w,dic,mem)]\r\n",
        "    \r\n",
        "#     def helper(self,word,dic,mem):\r\n",
        "#         if word in mem:\r\n",
        "#             return mem[word]\r\n",
        "#         mem[word]=False\r\n",
        "#         for i in range(1,len(word)):\r\n",
        "#             if word[:i] in dic and (word[i:] in dic or self.helper(word[i:],dic,mem)):\r\n",
        "#                 mem[word]=True\r\n",
        "#                 break\r\n",
        "#         return mem[word]\r\n",
        "        \r\n",
        "#222\r\n",
        "\r\n",
        "import collections\r\n",
        "\r\n",
        "\r\n",
        "class Trie:\r\n",
        "    \r\n",
        "    def __init__(self):\r\n",
        "        self.root={}\r\n",
        "        \r\n",
        "    def add(self,word):\r\n",
        "        node=self.root\r\n",
        "        for ch in word:\r\n",
        "            if ch not in node:\r\n",
        "                node[ch]={}\r\n",
        "            node=node[ch]\r\n",
        "        node['#']=1\r\n",
        "        \r\n",
        "class Solution:\r\n",
        "    def findAllConcatenatedWordsInADict(self, words):\r\n",
        "        trie=Trie()\r\n",
        "        for word in words:\r\n",
        "            trie.add(word)\r\n",
        "        res=[]\r\n",
        "        def dfs(root,word,count):\r\n",
        "            node=root\r\n",
        "            for i in range(len(word)):\r\n",
        "                if word[i] not in node:\r\n",
        "                    return False\r\n",
        "                node=node[word[i]]\r\n",
        "                if '#' in node:\r\n",
        "                    if i==len(word)-1:\r\n",
        "                        return count>=1\r\n",
        "                    elif dfs(root,word[i+1:],count+1):\r\n",
        "                        return True\r\n",
        "            return False\r\n",
        "        for word in words:\r\n",
        "            if dfs(trie.root,word,0):\r\n",
        "                res+=[word]\r\n",
        "        return res\r\n",
        "        \r\n",
        "\r\n",
        "        "
      ],
      "execution_count": null,
      "outputs": []
    }
  ]
}